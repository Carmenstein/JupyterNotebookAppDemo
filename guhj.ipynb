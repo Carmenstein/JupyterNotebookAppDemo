{
 "cells": [
  {
   "cell_type": "markdown",
   "id": "2b905354",
   "metadata": {},
   "source": [
    "# Este es mi primer cuaderno Jupyter\n"
   ]
  },
  {
   "cell_type": "markdown",
   "id": "3c0120f2",
   "metadata": {},
   "source": [
    "## Primer punto"
   ]
  },
  {
   "cell_type": "code",
   "execution_count": null,
   "id": "bf0e7ef2",
   "metadata": {},
   "outputs": [],
   "source": [
    "%matplotlib inline\n",
    "\n",
    "import ipywidgets as widgets\n",
    "from IPython.display import display\n",
    "import matplotlib.pyplot as plt\n",
    "import numpy as np"
   ]
  },
  {
   "cell_type": "markdown",
   "id": "64d7914f",
   "metadata": {},
   "source": [
    "## La recta afín"
   ]
  },
  {
   "cell_type": "code",
   "execution_count": null,
   "id": "c941fa44",
   "metadata": {},
   "outputs": [],
   "source": [
    "t = np.linspace(-10,10)\n",
    "s = 2*t + 1\n",
    "fig, ax = plt.subplots()\n",
    "plt.suptitle('Recta afín')\n",
    "plt.xlabel('x')\n",
    "plt.ylabel('y')\n",
    "ax.axhline(y=0, color='k')\n",
    "ax.axvline(x=0, color='k')\n",
    "ax.axis([-10, 10, -10, 10])\n",
    "ax.grid()\n",
    "ax.plot(t, s)\n",
    "plt.plot(0, 1, 'ro')\n",
    "plt.show()"
   ]
  },
  {
   "cell_type": "code",
   "execution_count": null,
   "id": "279d1f5e",
   "metadata": {
    "scrolled": true
   },
   "outputs": [],
   "source": [
    "def f(m=1, b=0):\n",
    "    plt.figure(1)\n",
    "    x = np.linspace(-10, 10, num=1000)\n",
    "    plt.plot(x, m * x + b)\n",
    "    plt.ylim(-5, 5)\n",
    "    plt.xlim(-5, 5)\n",
    "    plt.grid()\n",
    "    plt.show()\n",
    "\n",
    "interactive_plot = widgets.interactive(f, m=(-2.0, 2.0), b=(-3, 3, 0.5))\n",
    "output = interactive_plot.children[-1]\n",
    "interactive_plot"
   ]
  },
  {
   "cell_type": "code",
   "execution_count": null,
   "id": "9ac17dd1",
   "metadata": {},
   "outputs": [],
   "source": [
    "#print('\\n'.join(f'{m.__name__}=={m.__version__}' for m in globals().values() if getattr(m, '__version__', None)))"
   ]
  },
  {
   "cell_type": "code",
   "execution_count": null,
   "id": "c77988b7",
   "metadata": {},
   "outputs": [],
   "source": [
    "#import pkg_resources\n",
    "#for m in pkg_resources.working_set:\n",
    "    #print(f\"{m.project_name}=={m.version}\")\n"
   ]
  },
  {
   "cell_type": "code",
   "execution_count": null,
   "id": "5449c378",
   "metadata": {},
   "outputs": [],
   "source": []
  }
 ],
 "metadata": {
  "hide_input": false,
  "kernelspec": {
   "display_name": "Python 3 (ipykernel)",
   "language": "python",
   "name": "python3"
  },
  "language_info": {
   "codemirror_mode": {
    "name": "ipython",
    "version": 3
   },
   "file_extension": ".py",
   "mimetype": "text/x-python",
   "name": "python",
   "nbconvert_exporter": "python",
   "pygments_lexer": "ipython3",
   "version": "3.9.7"
  },
  "toc": {
   "base_numbering": 1,
   "nav_menu": {},
   "number_sections": true,
   "sideBar": true,
   "skip_h1_title": false,
   "title_cell": "Table of Contents",
   "title_sidebar": "Contents",
   "toc_cell": false,
   "toc_position": {},
   "toc_section_display": true,
   "toc_window_display": false
  },
  "varInspector": {
   "cols": {
    "lenName": 16,
    "lenType": 16,
    "lenVar": 40
   },
   "kernels_config": {
    "python": {
     "delete_cmd_postfix": "",
     "delete_cmd_prefix": "del ",
     "library": "var_list.py",
     "varRefreshCmd": "print(var_dic_list())"
    },
    "r": {
     "delete_cmd_postfix": ") ",
     "delete_cmd_prefix": "rm(",
     "library": "var_list.r",
     "varRefreshCmd": "cat(var_dic_list()) "
    }
   },
   "types_to_exclude": [
    "module",
    "function",
    "builtin_function_or_method",
    "instance",
    "_Feature"
   ],
   "window_display": false
  }
 },
 "nbformat": 4,
 "nbformat_minor": 5
}
